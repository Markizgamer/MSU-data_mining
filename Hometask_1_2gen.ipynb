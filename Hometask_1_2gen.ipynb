{
 "cells": [
  {
   "cell_type": "markdown",
   "id": "6b04c5cb",
   "metadata": {},
   "source": [
    " Задача https://edabit.com/challenge/gt9LLufDCMHKMioh2 1 балл\n",
    " "
   ]
  },
  {
   "cell_type": "code",
   "execution_count": 11,
   "id": "f5141dd6",
   "metadata": {},
   "outputs": [],
   "source": [
    "class Test:\n",
    "    @staticmethod\n",
    "    def assert_equals(a, b, *args, **kwargs):\n",
    "        assert a == b\n",
    "        print('Passed')"
   ]
  },
  {
   "cell_type": "code",
   "execution_count": 15,
   "id": "3adbec87",
   "metadata": {},
   "outputs": [
    {
     "name": "stdout",
     "output_type": "stream",
     "text": [
      "Passed\n",
      "Passed\n",
      "Passed\n",
      "Passed\n",
      "Passed\n",
      "Passed\n",
      "Passed\n",
      "Passed\n",
      "Passed\n",
      "Passed\n",
      "Passed\n",
      "Passed\n",
      "Passed\n",
      "Passed\n",
      "Passed\n",
      "Passed\n",
      "Passed\n",
      "Passed\n",
      "Passed\n"
     ]
    }
   ],
   "source": [
    "def stutter(mylist):\n",
    "    return mylist[0:2] + \"...\" + \" \" + mylist[0:2] + \"...\" + \" \" + mylist + \"?\"\n",
    "    \n",
    "actual_param, expected_param = [\n",
    "\t\"increasing\", \"adventures\", \"enticing\", \"unacceptable\", \"accountable\", \"incredible\", \"exquisite\",\n",
    "\t\"am\", \"enduring\", \"outstanding\", \"astonishing\", \"astounding\", \"impressive\", \"revolutionize\",\n",
    "\t\"recurring\", \"recollection\", \"so\", \"gorgeous\", \"captivating\"\n",
    "], [\n",
    "\t\"in... in... increasing?\", \"ad... ad... adventures?\", \"en... en... enticing?\", \"un... un... unacceptable?\",\n",
    "    \"ac... ac... accountable?\", \"in... in... incredible?\", \"ex... ex... exquisite?\", \"am... am... am?\",\n",
    "    \"en... en... enduring?\", \"ou... ou... outstanding?\", \"as... as... astonishing?\", \"as... as... astounding?\",\n",
    "    \"im... im... impressive?\", \"re... re... revolutionize?\", \"re... re... recurring?\", \"re... re... recollection?\",\n",
    "    \"so... so... so?\", \"go... go... gorgeous?\", \"ca... ca... captivating?\",\n",
    "]\n",
    "for i, w in enumerate(actual_param):\n",
    "\tTest.assert_equals(stutter(w), expected_param[i])"
   ]
  },
  {
   "cell_type": "markdown",
   "id": "1542a3e7",
   "metadata": {},
   "source": [
    "Задача https://edabit.com/challenge/cXnkmRdxqJrwdsP4n - 1 балл "
   ]
  },
  {
   "cell_type": "code",
   "execution_count": 16,
   "id": "b21963b8",
   "metadata": {},
   "outputs": [
    {
     "name": "stdout",
     "output_type": "stream",
     "text": [
      "Passed\n",
      "Passed\n",
      "Passed\n",
      "Passed\n"
     ]
    }
   ],
   "source": [
    "def dis(price, discount): \n",
    "    return price*(100-discount)/100\n",
    "    Test.assert_equals(dis(100, 75), 25)\n",
    "Test.assert_equals(dis(211, 50), 105.5)\n",
    "Test.assert_equals(dis(593, 61), 231.27)\n",
    "Test.assert_equals(dis(1693, 80), 338.6)\n",
    "Test.assert_equals(dis(700, 10), 630)"
   ]
  },
  {
   "cell_type": "code",
   "execution_count": 7,
   "id": "50d92e89",
   "metadata": {},
   "outputs": [
    {
     "data": {
      "text/plain": [
       "450.0"
      ]
     },
     "execution_count": 7,
     "metadata": {},
     "output_type": "execute_result"
    }
   ],
   "source": [
    "dis(500,10)"
   ]
  },
  {
   "cell_type": "markdown",
   "id": "ffb67554",
   "metadata": {},
   "source": [
    "Задача https://edabit.com/challenge/2zKetgAJp4WRFXiDT 2 балла "
   ]
  },
  {
   "cell_type": "code",
   "execution_count": 17,
   "id": "79784e9d",
   "metadata": {},
   "outputs": [
    {
     "name": "stdout",
     "output_type": "stream",
     "text": [
      "Passed\n",
      "Passed\n",
      "Passed\n",
      "Passed\n",
      "Passed\n",
      "Passed\n",
      "Passed\n"
     ]
    }
   ],
   "source": [
    "def number_length(a):\n",
    "    n = 0\n",
    "    if (a!=0):\n",
    "        while (a != 0 ):\n",
    "            a = a // 10\n",
    "            n += 1\n",
    "    else: \n",
    "        n=1 \n",
    "    return n\n",
    "Test.assert_equals(number_length(10), 2)\n",
    "Test.assert_equals(number_length(5000), 4)\n",
    "Test.assert_equals(number_length(0), 1)\n",
    "Test.assert_equals(number_length(4039182), 7)\n",
    "Test.assert_equals(number_length(9999999999999999), 16)\n",
    "Test.assert_equals(number_length(1), 1)\n",
    "Test.assert_equals(number_length(777777777777777777777777777777), 30)"
   ]
  },
  {
   "cell_type": "code",
   "execution_count": 3,
   "id": "7bd2092d",
   "metadata": {},
   "outputs": [
    {
     "data": {
      "text/plain": [
       "4"
      ]
     },
     "execution_count": 3,
     "metadata": {},
     "output_type": "execute_result"
    }
   ],
   "source": [
    "number_length(5000)"
   ]
  },
  {
   "cell_type": "markdown",
   "id": "6275b021",
   "metadata": {},
   "source": [
    "Задача https://edabit.com/challenge/pfn6QRn6eiTHEPpSs 2 балла "
   ]
  },
  {
   "cell_type": "code",
   "execution_count": 20,
   "id": "a709d4dd",
   "metadata": {},
   "outputs": [
    {
     "name": "stdout",
     "output_type": "stream",
     "text": [
      "Passed\n",
      "Passed\n",
      "Passed\n",
      "Passed\n",
      "Passed\n",
      "Passed\n",
      "Passed\n",
      "Passed\n"
     ]
    }
   ],
   "source": [
    "def str_to_int(num):\n",
    "    k = str(num)\n",
    "    return k \n",
    "str, int = int, str\n",
    "def int_to_str(num): \n",
    "    k = int(num) \n",
    "    return k \n",
    "if str(4) == '4' and int('4') == 4:\n",
    "\tprint('**EXTRA POINTS**')\n",
    "\tprint('You have successfully de-drunken Python')\n",
    "\n",
    "Test.assert_equals(int_to_str(4), '4')\n",
    "Test.assert_equals(int_to_str(65), '65')\n",
    "Test.assert_equals(int_to_str(29348), '29348')\n",
    "Test.assert_equals(int_to_str(49583908545), '49583908545')\n",
    "\n",
    "Test.assert_equals(str_to_int('4'), 4)\n",
    "Test.assert_equals(str_to_int('65'), 65)\n",
    "Test.assert_equals(str_to_int('29348'), 29348)\n",
    "Test.assert_equals(str_to_int('49583908545'), 49583908545)"
   ]
  },
  {
   "cell_type": "markdown",
   "id": "748a4693",
   "metadata": {},
   "source": [
    "Задача https://edabit.com/challenge/3DAkZHv2LZjgqWbvW 2 балла \n"
   ]
  },
  {
   "cell_type": "code",
   "execution_count": 22,
   "id": "ddc0a8be",
   "metadata": {},
   "outputs": [],
   "source": [
    "def is_adjacent(matrix, node1, node2):\n",
    "    if (matrix[node1] [node2] == 1):\n",
    "        return True \n",
    "    else: \n",
    "        return False  \n"
   ]
  },
  {
   "cell_type": "code",
   "execution_count": 23,
   "id": "76e3aad6",
   "metadata": {},
   "outputs": [
    {
     "name": "stdout",
     "output_type": "stream",
     "text": [
      "Passed\n",
      "Passed\n",
      "Passed\n",
      "Passed\n",
      "Passed\n",
      "Passed\n"
     ]
    }
   ],
   "source": [
    "matrix = [[0,1,0,0],[1,0,1,1],[0,1,0,1],[0,1,1,0]]\n",
    "Test.assert_equals(is_adjacent(matrix, 0, 1), True)\n",
    "Test.assert_equals(is_adjacent(matrix, 0, 2), False)\n",
    "Test.assert_equals(is_adjacent(matrix, 2, 1), True)\n",
    "\n",
    "matrix = [[0,1,0,1,1], [1,0,1,0,0],[0,1,0,1,0],[1,0,1,0,1],[1,0,0,1,0]]\n",
    "Test.assert_equals(is_adjacent(matrix, 0, 3), True)\n",
    "Test.assert_equals(is_adjacent(matrix, 1, 4), False)\n",
    "Test.assert_equals(is_adjacent(matrix, 3, 2), True)\n",
    "             "
   ]
  },
  {
   "cell_type": "markdown",
   "id": "209ba336",
   "metadata": {},
   "source": [
    "Задание https://edabit.com/challenge/BuwHwPvt92yw574zB 2 балла "
   ]
  },
  {
   "cell_type": "code",
   "execution_count": 24,
   "id": "d4b67625",
   "metadata": {},
   "outputs": [
    {
     "name": "stdout",
     "output_type": "stream",
     "text": [
      "Passed\n",
      "Passed\n",
      "Passed\n",
      "Passed\n",
      "Passed\n",
      "Passed\n",
      "Passed\n"
     ]
    }
   ],
   "source": [
    "def list_of_multiples (num, length):\n",
    "    k = [] \n",
    "    for i in range(1, length+1):  \n",
    "        k.append(i*num)\n",
    "    return k \n",
    "Test.assert_equals(list_of_multiples(7, 5), [7, 14, 21, 28, 35])\n",
    "Test.assert_equals(list_of_multiples(12, 10), [12, 24, 36, 48, 60, 72, 84, 96, 108, 120])\n",
    "Test.assert_equals(list_of_multiples(17, 7), [17, 34, 51, 68, 85, 102, 119])\n",
    "Test.assert_equals(list_of_multiples(630, 14), [630, 1260, 1890, 2520, 3150, 3780, 4410, 5040, 5670, 6300, 6930, 7560, 8190, 8820])\n",
    "Test.assert_equals(list_of_multiples(140, 3), [140, 280, 420])\n",
    "Test.assert_equals(list_of_multiples(7, 8), [7, 14, 21, 28, 35, 42, 49, 56])\n",
    "Test.assert_equals(list_of_multiples(11, 21), [11, 22, 33, 44, 55, 66, 77, 88, 99, 110, 121, 132, 143, 154, 165, 176, 187, 198, 209, 220, 231])"
   ]
  },
  {
   "cell_type": "markdown",
   "id": "1e3ec80f",
   "metadata": {},
   "source": [
    "Задача https://edabit.com/challenge/o2AKq4xy3nfZabKXL 2 балла"
   ]
  },
  {
   "cell_type": "code",
   "execution_count": 25,
   "id": "6b5b1806",
   "metadata": {},
   "outputs": [
    {
     "name": "stdout",
     "output_type": "stream",
     "text": [
      "Passed\n",
      "Passed\n",
      "Passed\n",
      "Passed\n",
      "Passed\n",
      "Passed\n"
     ]
    }
   ],
   "source": [
    "def solutions(a, b, c): \n",
    "        if(b**2 - 4*a*c > 0): \n",
    "            return 2 \n",
    "        else:\n",
    "            if(b**2 - 4*a*c == 0): \n",
    "                return 1 \n",
    "            else: \n",
    "                return 0 \n",
    "            Test.assert_equals(solutions(1, 0, -1), 2)\n",
    "Test.assert_equals(solutions(1, 0, 0), 1)\n",
    "Test.assert_equals(solutions(1, 0, 1), 0)\n",
    "Test.assert_equals(solutions(200, 420, 800), 0)\n",
    "Test.assert_equals(solutions(200, 420, -800), 2)\n",
    "Test.assert_equals(solutions(1000, 1000, 0), 2)\n",
    "Test.assert_equals(solutions(10000, 400, 4), 1)"
   ]
  },
  {
   "cell_type": "markdown",
   "id": "0800cb4e",
   "metadata": {},
   "source": [
    "Задача https://edabit.com/challenge/BuCaGYh8keiWJGmcC 2 балла "
   ]
  },
  {
   "cell_type": "code",
   "execution_count": 30,
   "id": "eb4db577",
   "metadata": {},
   "outputs": [
    {
     "name": "stdout",
     "output_type": "stream",
     "text": [
      "Passed\n",
      "Passed\n",
      "Passed\n"
     ]
    }
   ],
   "source": [
    "def to_binary(num):\n",
    "\treturn bin(num)[2:]\n",
    "Test.assert_equals(to_binary(0xFF), \"11111111\")\n",
    "Test.assert_equals(to_binary(0xAA), \"10101010\")\n",
    "Test.assert_equals(to_binary(0xFA), \"11111010\")"
   ]
  },
  {
   "cell_type": "markdown",
   "id": "a77a916f",
   "metadata": {},
   "source": [
    "Задача https://edabit.com/challenge/nyeNvKWdDFKRAk4Da 1 балл "
   ]
  },
  {
   "cell_type": "code",
   "execution_count": 31,
   "id": "5b2a7765",
   "metadata": {},
   "outputs": [
    {
     "name": "stdout",
     "output_type": "stream",
     "text": [
      "Passed\n",
      "Passed\n",
      "Passed\n",
      "Passed\n"
     ]
    }
   ],
   "source": [
    "def how_many_seconds(hours):\n",
    "    return hours*3600 \n",
    "Test.assert_equals(how_many_seconds(2), 7200)\n",
    "Test.assert_equals(how_many_seconds(10), 36000)\n",
    "Test.assert_equals(how_many_seconds(24), 86400)\n",
    "Test.assert_equals(how_many_seconds(36), 129600)"
   ]
  },
  {
   "cell_type": "code",
   "execution_count": null,
   "id": "f0fb6661",
   "metadata": {},
   "outputs": [],
   "source": []
  }
 ],
 "metadata": {
  "kernelspec": {
   "display_name": "Python 3",
   "language": "python",
   "name": "python3"
  },
  "language_info": {
   "codemirror_mode": {
    "name": "ipython",
    "version": 3
   },
   "file_extension": ".py",
   "mimetype": "text/x-python",
   "name": "python",
   "nbconvert_exporter": "python",
   "pygments_lexer": "ipython3",
   "version": "3.8.8"
  }
 },
 "nbformat": 4,
 "nbformat_minor": 5
}
