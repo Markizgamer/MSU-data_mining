{
 "cells": [
  {
   "cell_type": "markdown",
   "id": "5de3bf41",
   "metadata": {},
   "source": [
    " Задача https://edabit.com/challenge/vvuAkYEAArrZvmp6X - 1 балл"
   ]
  },
  {
   "cell_type": "code",
   "execution_count": 41,
   "id": "aebf470b",
   "metadata": {},
   "outputs": [],
   "source": [
    "def stutter(mylist):\n",
    "    return mylist[0:2] + \"...\" + \" \" + mylist[0:2] + \"...\" + \" \" + mylist + \"?\"\n",
    "    "
   ]
  },
  {
   "cell_type": "code",
   "execution_count": 43,
   "id": "198fd3ce",
   "metadata": {},
   "outputs": [
    {
     "name": "stdout",
     "output_type": "stream",
     "text": [
      "\"he... he... hello?\" \n"
     ]
    }
   ],
   "source": [
    " slutter(\"hello\") #everything is good "
   ]
  },
  {
   "cell_type": "markdown",
   "id": "42f747e5",
   "metadata": {},
   "source": [
    "Задача https://edabit.com/challenge/vvuAkYEAArrZvmp6X - 1 балл "
   ]
  },
  {
   "cell_type": "code",
   "execution_count": 47,
   "id": "0792a0b6",
   "metadata": {},
   "outputs": [],
   "source": [
    "def dis(price, discount): \n",
    "    return price*(100-discount)/100\n",
    "    "
   ]
  },
  {
   "cell_type": "code",
   "execution_count": 48,
   "id": "503b3208",
   "metadata": {},
   "outputs": [
    {
     "data": {
      "text/plain": [
       "450.0"
      ]
     },
     "execution_count": 48,
     "metadata": {},
     "output_type": "execute_result"
    }
   ],
   "source": [
    "dis(500,10)"
   ]
  },
  {
   "cell_type": "markdown",
   "id": "f0b39f05",
   "metadata": {},
   "source": [
    "Задача https://edabit.com/challenge/2zKetgAJp4WRFXiDT 2 балла "
   ]
  },
  {
   "cell_type": "code",
   "execution_count": 91,
   "id": "286a248a",
   "metadata": {},
   "outputs": [],
   "source": [
    "def number_length(a):\n",
    "    n = 0\n",
    "    if (a!=0):\n",
    "        while (a != 0 ):\n",
    "            a = a // 10\n",
    "            n += 1\n",
    "    else: \n",
    "        n=1 \n",
    "    return n"
   ]
  },
  {
   "cell_type": "code",
   "execution_count": 94,
   "id": "074b6b80",
   "metadata": {},
   "outputs": [
    {
     "data": {
      "text/plain": [
       "1"
      ]
     },
     "execution_count": 94,
     "metadata": {},
     "output_type": "execute_result"
    }
   ],
   "source": [
    "number_length(0)"
   ]
  },
  {
   "cell_type": "markdown",
   "id": "d64433be",
   "metadata": {},
   "source": [
    "Задача https://edabit.com/challenge/pfn6QRn6eiTHEPpSs 2 балла "
   ]
  },
  {
   "cell_type": "code",
   "execution_count": 104,
   "id": "07e8d07f",
   "metadata": {},
   "outputs": [],
   "source": [
    "def str_to_int(num):\n",
    "    k = str(num)\n",
    "    return k "
   ]
  },
  {
   "cell_type": "code",
   "execution_count": 107,
   "id": "752e70cf",
   "metadata": {},
   "outputs": [
    {
     "data": {
      "text/plain": [
       "5"
      ]
     },
     "execution_count": 107,
     "metadata": {},
     "output_type": "execute_result"
    }
   ],
   "source": [
    "int_to_str(5)"
   ]
  },
  {
   "cell_type": "code",
   "execution_count": 101,
   "id": "07a5d670",
   "metadata": {},
   "outputs": [],
   "source": [
    "def int_to_str(num): \n",
    "    k = int(num) \n",
    "    return k "
   ]
  },
  {
   "cell_type": "code",
   "execution_count": 103,
   "id": "492f7959",
   "metadata": {},
   "outputs": [
    {
     "data": {
      "text/plain": [
       "5"
      ]
     },
     "execution_count": 103,
     "metadata": {},
     "output_type": "execute_result"
    }
   ],
   "source": [
    "str_to_int('5')"
   ]
  },
  {
   "cell_type": "markdown",
   "id": "a5dbbb81",
   "metadata": {},
   "source": [
    "Задача https://edabit.com/challenge/3DAkZHv2LZjgqWbvW 2 балла \n"
   ]
  },
  {
   "cell_type": "code",
   "execution_count": 116,
   "id": "46578b9d",
   "metadata": {},
   "outputs": [],
   "source": [
    "def is_adjacent(matrix, node1, node2):\n",
    "    if (matrix[node1] [node2] == 1):\n",
    "        return True \n",
    "    else: \n",
    "        return False  \n"
   ]
  },
  {
   "cell_type": "code",
   "execution_count": 117,
   "id": "5b75b42c",
   "metadata": {},
   "outputs": [
    {
     "data": {
      "text/plain": [
       "True"
      ]
     },
     "execution_count": 117,
     "metadata": {},
     "output_type": "execute_result"
    }
   ],
   "source": [
    "is_adjacent([\n",
    "  [ 0, 1, 0, 1, 1 ],\n",
    "  [ 1, 0, 1, 0, 0 ],\n",
    "  [ 0, 1, 0, 1, 0 ],\n",
    "  [ 1, 0, 1, 0, 1 ],\n",
    "  [ 1, 0, 0, 1, 0 ]\n",
    "], 2, 3)\n",
    "              \n",
    "             "
   ]
  },
  {
   "cell_type": "code",
   "execution_count": null,
   "id": "3cbced60",
   "metadata": {},
   "outputs": [],
   "source": [
    "Задание https://edabit.com/challenge/BuwHwPvt92yw574zB 2 балла "
   ]
  },
  {
   "cell_type": "code",
   "execution_count": 132,
   "id": "7b7d952b",
   "metadata": {},
   "outputs": [],
   "source": [
    "def list_of_multiples (num, length):\n",
    "    k = [] \n",
    "    for i in range(1, length+1):  \n",
    "        k.append(i*num)\n",
    "    return k "
   ]
  },
  {
   "cell_type": "code",
   "execution_count": 133,
   "id": "14c3072e",
   "metadata": {},
   "outputs": [
    {
     "data": {
      "text/plain": [
       "[12, 24, 36, 48, 60, 72, 84, 96, 108, 120]"
      ]
     },
     "execution_count": 133,
     "metadata": {},
     "output_type": "execute_result"
    }
   ],
   "source": [
    "list_of_multiples(12, 10)"
   ]
  },
  {
   "cell_type": "markdown",
   "id": "6b74f676",
   "metadata": {},
   "source": [
    "Задача https://edabit.com/challenge/o2AKq4xy3nfZabKXL 2 балла"
   ]
  },
  {
   "cell_type": "code",
   "execution_count": 135,
   "id": "b087a68a",
   "metadata": {},
   "outputs": [],
   "source": [
    "def solutions(a, b, c): \n",
    "        if(b**2 - 4*a*c > 0): \n",
    "            return 2 \n",
    "        else:\n",
    "            if(b**2 - 4*a*c == 0): \n",
    "                return 1 \n",
    "            else: \n",
    "                return 0 "
   ]
  },
  {
   "cell_type": "code",
   "execution_count": 137,
   "id": "b0f56315",
   "metadata": {},
   "outputs": [
    {
     "data": {
      "text/plain": [
       "2"
      ]
     },
     "execution_count": 137,
     "metadata": {},
     "output_type": "execute_result"
    }
   ],
   "source": [
    "solutions(2,1,-4)"
   ]
  },
  {
   "cell_type": "markdown",
   "id": "17fefc95",
   "metadata": {},
   "source": [
    "Задача https://edabit.com/challenge/nyeNvKWdDFKRAk4Da 2 балла "
   ]
  },
  {
   "cell_type": "code",
   "execution_count": 165,
   "id": "9efb450e",
   "metadata": {},
   "outputs": [],
   "source": [
    "def to_binary(num):\n",
    "    new_num = str(num) \n",
    "    \n",
    "    return str(bin(int(new_num)))[2:]\n",
    "\n",
    "            "
   ]
  },
  {
   "cell_type": "code",
   "execution_count": 166,
   "id": "ae72dddb",
   "metadata": {},
   "outputs": [
    {
     "data": {
      "text/plain": [
       "'11111111'"
      ]
     },
     "execution_count": 166,
     "metadata": {},
     "output_type": "execute_result"
    }
   ],
   "source": [
    "to_binary(0xFF)"
   ]
  },
  {
   "cell_type": "markdown",
   "id": "e6f353b8",
   "metadata": {},
   "source": [
    "Задача https://edabit.com/challenge/nyeNvKWdDFKRAk4Da 1 балл "
   ]
  },
  {
   "cell_type": "code",
   "execution_count": 167,
   "id": "65ea6cb0",
   "metadata": {},
   "outputs": [],
   "source": [
    "def how_many_seconds(hours):\n",
    "    return hours*3600 "
   ]
  },
  {
   "cell_type": "code",
   "execution_count": null,
   "id": "f27b0877",
   "metadata": {},
   "outputs": [],
   "source": []
  }
 ],
 "metadata": {
  "kernelspec": {
   "display_name": "Python 3",
   "language": "python",
   "name": "python3"
  },
  "language_info": {
   "codemirror_mode": {
    "name": "ipython",
    "version": 3
   },
   "file_extension": ".py",
   "mimetype": "text/x-python",
   "name": "python",
   "nbconvert_exporter": "python",
   "pygments_lexer": "ipython3",
   "version": "3.8.8"
  }
 },
 "nbformat": 4,
 "nbformat_minor": 5
}
